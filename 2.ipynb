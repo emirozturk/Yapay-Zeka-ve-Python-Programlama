{
 "cells": [
  {
   "cell_type": "code",
   "execution_count": 37,
   "metadata": {},
   "outputs": [
    {
     "name": "stdout",
     "output_type": "stream",
     "text": [
      "1 2 3 4 5 6 7 8 9 10 "
     ]
    }
   ],
   "source": [
    "liste = [1,2,3,4,5,6,7,8,9,10]\n",
    "for deger in liste:\n",
    "    print(deger,end=\" \")"
   ]
  },
  {
   "cell_type": "code",
   "execution_count": 38,
   "metadata": {},
   "outputs": [
    {
     "name": "stdout",
     "output_type": "stream",
     "text": [
      "[0, 1, 2, 3, 4, 5, 6, 7, 8, 9, 10, 11, 12, 13, 14, 15, 16, 17, 18, 19, 20, 21, 22, 23, 24, 25, 26, 27, 28, 29, 30, 31, 32, 33, 34, 35, 36, 37, 38, 39, 40, 41, 42, 43, 44, 45, 46, 47, 48, 49, 50, 51, 52, 53, 54, 55, 56, 57, 58, 59, 60, 61, 62, 63, 64, 65, 66, 67, 68, 69, 70, 71, 72, 73, 74, 75, 76, 77, 78, 79, 80, 81, 82, 83, 84, 85, 86, 87, 88, 89, 90, 91, 92, 93, 94, 95, 96, 97, 98, 99]\n",
      "[10, 11, 12, 13, 14, 15, 16, 17, 18, 19]\n",
      "[10, 12, 14, 16, 18]\n",
      "range(0, 100000000000)\n"
     ]
    }
   ],
   "source": [
    "print(list(range(100)))\n",
    "print(list(range(10,20)))\n",
    "print(list(range(10,20,2)))\n",
    "print(range(100000000000))"
   ]
  },
  {
   "cell_type": "code",
   "execution_count": 39,
   "metadata": {},
   "outputs": [
    {
     "name": "stdout",
     "output_type": "stream",
     "text": [
      "0 1 2 3 4 5 6 7 8 9 "
     ]
    }
   ],
   "source": [
    "for i in range(10):\n",
    "    print(i,end=\" \")"
   ]
  },
  {
   "cell_type": "markdown",
   "metadata": {},
   "source": [
    "1-100 arası tek sayıları gösteren uygulama"
   ]
  },
  {
   "cell_type": "code",
   "execution_count": 40,
   "metadata": {},
   "outputs": [
    {
     "name": "stdout",
     "output_type": "stream",
     "text": [
      "1 3 5 7 9 11 13 15 17 19 21 23 25 27 29 31 33 35 37 39 41 43 45 47 49 51 53 55 57 59 61 63 65 67 69 71 73 75 77 79 81 83 85 87 89 91 93 95 97 99 "
     ]
    }
   ],
   "source": [
    "for i in range(1,100,2):\n",
    "    print(i,end = \" \")"
   ]
  },
  {
   "cell_type": "code",
   "execution_count": 41,
   "metadata": {},
   "outputs": [
    {
     "name": "stdout",
     "output_type": "stream",
     "text": [
      "500500\n"
     ]
    }
   ],
   "source": [
    "#1-1000 arası sayıların toplamını gösteren uygulama\n",
    "toplam = 0\n",
    "for sayi in range(1,1001):\n",
    "    toplam += sayi\n",
    "print(toplam)"
   ]
  },
  {
   "cell_type": "code",
   "execution_count": 42,
   "metadata": {},
   "outputs": [
    {
     "name": "stdout",
     "output_type": "stream",
     "text": [
      "3628800\n"
     ]
    }
   ],
   "source": [
    "#Faktoriyel hesabı yapan uygulama\n",
    "deger = int(input(\"Kaç faktoriyel hesaplanacak?\"))\n",
    "faktoriyel = 1\n",
    "for sayi in range(1,deger+1):\n",
    "    faktoriyel*=sayi\n",
    "print(faktoriyel)"
   ]
  },
  {
   "cell_type": "code",
   "execution_count": 43,
   "metadata": {},
   "outputs": [
    {
     "name": "stdout",
     "output_type": "stream",
     "text": [
      "-1 girilmedi\n",
      "-1 girilmedi\n",
      "-1 girildi\n"
     ]
    }
   ],
   "source": [
    "deger = 10\n",
    "while deger != -1:\n",
    "    print(\"-1 girilmedi\")\n",
    "    deger = int(input(\"Deger gir:\"))\n",
    "print(\"-1 girildi\")"
   ]
  },
  {
   "cell_type": "code",
   "execution_count": 44,
   "metadata": {},
   "outputs": [
    {
     "name": "stdout",
     "output_type": "stream",
     "text": [
      "0\n",
      "1\n",
      "2\n",
      "3\n",
      "4\n",
      "5\n",
      "6\n",
      "7\n",
      "8\n",
      "9\n"
     ]
    }
   ],
   "source": [
    "i = 0\n",
    "while i<10:\n",
    "    print(i)\n",
    "    i+=1"
   ]
  },
  {
   "cell_type": "code",
   "execution_count": 45,
   "metadata": {},
   "outputs": [
    {
     "ename": "ValueError",
     "evalue": "invalid literal for int() with base 10: ''",
     "output_type": "error",
     "traceback": [
      "\u001b[0;31m---------------------------------------------------------------------------\u001b[0m",
      "\u001b[0;31mValueError\u001b[0m                                Traceback (most recent call last)",
      "\u001b[1;32m/Users/emirozturk/Desktop/GitHub/Yapay-Zeka-ve-Python-Programlama/2.ipynb Cell 10\u001b[0m line \u001b[0;36m3\n\u001b[1;32m      <a href='vscode-notebook-cell:/Users/emirozturk/Desktop/GitHub/Yapay-Zeka-ve-Python-Programlama/2.ipynb#X14sZmlsZQ%3D%3D?line=0'>1</a>\u001b[0m deger \u001b[39m=\u001b[39m \u001b[39m10\u001b[39m\n\u001b[1;32m      <a href='vscode-notebook-cell:/Users/emirozturk/Desktop/GitHub/Yapay-Zeka-ve-Python-Programlama/2.ipynb#X14sZmlsZQ%3D%3D?line=1'>2</a>\u001b[0m \u001b[39mwhile\u001b[39;00m deger \u001b[39m!=\u001b[39m \u001b[39m-\u001b[39m\u001b[39m1\u001b[39m:\n\u001b[0;32m----> <a href='vscode-notebook-cell:/Users/emirozturk/Desktop/GitHub/Yapay-Zeka-ve-Python-Programlama/2.ipynb#X14sZmlsZQ%3D%3D?line=2'>3</a>\u001b[0m     deger \u001b[39m=\u001b[39m \u001b[39mint\u001b[39;49m(\u001b[39minput\u001b[39;49m(\u001b[39m\"\u001b[39;49m\u001b[39mDeger gir:\u001b[39;49m\u001b[39m\"\u001b[39;49m))\n\u001b[1;32m      <a href='vscode-notebook-cell:/Users/emirozturk/Desktop/GitHub/Yapay-Zeka-ve-Python-Programlama/2.ipynb#X14sZmlsZQ%3D%3D?line=3'>4</a>\u001b[0m     \u001b[39mif\u001b[39;00m deger \u001b[39m==\u001b[39m \u001b[39m-\u001b[39m\u001b[39m1\u001b[39m: \n\u001b[1;32m      <a href='vscode-notebook-cell:/Users/emirozturk/Desktop/GitHub/Yapay-Zeka-ve-Python-Programlama/2.ipynb#X14sZmlsZQ%3D%3D?line=4'>5</a>\u001b[0m         \u001b[39mbreak\u001b[39;00m\n",
      "\u001b[0;31mValueError\u001b[0m: invalid literal for int() with base 10: ''"
     ]
    }
   ],
   "source": [
    "deger = 10\n",
    "while deger != -1:\n",
    "    deger = int(input(\"Deger gir:\"))\n",
    "    if deger == -1: \n",
    "        break\n",
    "    print(\"-1 girilmedi\")\n",
    "print(\"-1 girildi\")"
   ]
  },
  {
   "cell_type": "code",
   "execution_count": null,
   "metadata": {},
   "outputs": [
    {
     "name": "stdout",
     "output_type": "stream",
     "text": [
      "1.pdf\n",
      "2.pdf\n",
      "3.pdf\n"
     ]
    }
   ],
   "source": [
    "dosyalar = [\".DS_Store\",\"1.pdf\",\"2.pdf\",\"3.pdf\"]\n",
    "for dosya in dosyalar:\n",
    "    if dosya == \".DS_Store\": \n",
    "        continue\n",
    "    print(dosya)"
   ]
  },
  {
   "cell_type": "markdown",
   "metadata": {},
   "source": [
    "Ekrandan -1 girilene kadar alınan tüm değerlerin toplamını ekrana gösteren program."
   ]
  },
  {
   "cell_type": "code",
   "execution_count": null,
   "metadata": {},
   "outputs": [
    {
     "name": "stdout",
     "output_type": "stream",
     "text": [
      "75\n"
     ]
    }
   ],
   "source": [
    "t = 0#toplam değerine ihtiyacım var\n",
    "while True:#sonsuza kadar\n",
    "    deger = int(input(\"Sayı giriniz\"))#Ekrandan bir değer al\n",
    "    if deger == -1:#ekrandan aldığım değer -1'mi -1'se \n",
    "        break#Çık\n",
    "    else:#değilse\n",
    "        t+=deger#toplama ekle\n",
    "print(t)#ekrana toplamı göster"
   ]
  },
  {
   "cell_type": "code",
   "execution_count": 52,
   "metadata": {},
   "outputs": [
    {
     "name": "stdout",
     "output_type": "stream",
     "text": [
      "ugün hava çok gül."
     ]
    }
   ],
   "source": [
    "#Ekrandan girilen bir metnin \n",
    "#içerisindeki e harflerini çıkartarak ekrana gösteren uygulama\n",
    "text = \"Bugün hava çok güzel.\"\n",
    "for karakter in text:\n",
    "    if karakter != \"e\" or karakter != \"z\":\n",
    "        print(karakter,end=\"\")\n",
    "\n",
    "#Ekrandan girilen bir metnin \n",
    "#içerisindeki e harflerini çıkartarak ekrana gösteren uygulama\n",
    "#text = \"Bugün hava çok güzel.\"\n",
    "#for karakter in text:\n",
    "    #if karakter not in [\"e\",\"z\",\"B\"]:\n",
    "    #    print(karakter,end=\"\")"
   ]
  },
  {
   "cell_type": "code",
   "execution_count": 63,
   "metadata": {},
   "outputs": [
    {
     "name": "stdout",
     "output_type": "stream",
     "text": [
      "2 3 5 7 11 13 17 19 23 29 31 37 41 43 47 53 59 61 67 71 73 79 83 89 97 "
     ]
    }
   ],
   "source": [
    "#Girilen bir aralıktaki asal sayıları ekrana gösteren program\n",
    "maxDeger = int(input(\"Sayı giriniz:\"))\n",
    "for deger in range(2,maxDeger+1):\n",
    "    asalMi = True\n",
    "    #Sırayla asal kontrolü yapılan değere kadar her sayının bölünüp\n",
    "    #bölünmediğinin kontrolünün yapılması gerekmekte\n",
    "    for i in range(2,deger//2+1):   \n",
    "        if deger % i == 0:   #Eğer kontrol edilen sayı sıradaki sayıya tam bölünüyorsa\n",
    "            asalMi = False  #Asal değil yapmak için bool bir değişken kullanıyoruz\n",
    "            break\n",
    "    if asalMi == True:\n",
    "        print(deger,end = \" \")"
   ]
  }
 ],
 "metadata": {
  "kernelspec": {
   "display_name": "base",
   "language": "python",
   "name": "python3"
  },
  "language_info": {
   "codemirror_mode": {
    "name": "ipython",
    "version": 3
   },
   "file_extension": ".py",
   "mimetype": "text/x-python",
   "name": "python",
   "nbconvert_exporter": "python",
   "pygments_lexer": "ipython3",
   "version": "3.10.10"
  }
 },
 "nbformat": 4,
 "nbformat_minor": 2
}
