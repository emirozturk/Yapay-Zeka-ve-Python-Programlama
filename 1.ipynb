{
 "cells": [
  {
   "cell_type": "markdown",
   "metadata": {},
   "source": [
    "Değişken tanımlama işlemleri"
   ]
  },
  {
   "cell_type": "code",
   "execution_count": 3,
   "metadata": {},
   "outputs": [
    {
     "name": "stdout",
     "output_type": "stream",
     "text": [
      "a\n"
     ]
    }
   ],
   "source": [
    "a = 10\n",
    "print(a)"
   ]
  },
  {
   "cell_type": "code",
   "execution_count": 4,
   "metadata": {},
   "outputs": [
    {
     "name": "stdout",
     "output_type": "stream",
     "text": [
      "string\n"
     ]
    }
   ],
   "source": [
    "a = \"string\"\n",
    "print(a)"
   ]
  },
  {
   "cell_type": "code",
   "execution_count": 11,
   "metadata": {},
   "outputs": [
    {
     "name": "stdout",
     "output_type": "stream",
     "text": [
      "10 <class 'int'>\n",
      "asd <class 'str'>\n",
      "10 <class 'str'>\n"
     ]
    }
   ],
   "source": [
    "a = 10\n",
    "b = 'asd'\n",
    "c = \"10\"\n",
    "print(a,type(a))\n",
    "print(b,type(b))\n",
    "print(c,type(c))"
   ]
  },
  {
   "cell_type": "code",
   "execution_count": 15,
   "metadata": {},
   "outputs": [
    {
     "name": "stdout",
     "output_type": "stream",
     "text": [
      "10 15\n"
     ]
    }
   ],
   "source": [
    "a,b = 10,15\n",
    "print(a,b)"
   ]
  },
  {
   "cell_type": "code",
   "execution_count": 19,
   "metadata": {},
   "outputs": [
    {
     "name": "stdout",
     "output_type": "stream",
     "text": [
      "10 15\n"
     ]
    }
   ],
   "source": [
    "c = a\n",
    "a = b\n",
    "b = c\n",
    "print(a,b)"
   ]
  },
  {
   "cell_type": "code",
   "execution_count": 20,
   "metadata": {},
   "outputs": [
    {
     "name": "stdout",
     "output_type": "stream",
     "text": [
      "15 10\n"
     ]
    }
   ],
   "source": [
    "a,b = b,a\n",
    "print(a,b)"
   ]
  },
  {
   "cell_type": "code",
   "execution_count": 23,
   "metadata": {},
   "outputs": [
    {
     "name": "stdout",
     "output_type": "stream",
     "text": [
      "21\n",
      "21\n"
     ]
    }
   ],
   "source": [
    "a = a + 1\n",
    "a += 1\n",
    "print(a)\n",
    "a + 1\n",
    "print(a)"
   ]
  },
  {
   "cell_type": "code",
   "execution_count": null,
   "metadata": {},
   "outputs": [],
   "source": [
    "CokBuyukBirSayi = 10\n",
    "cokBuyukBirSayi = 10\n",
    "cok_buyuk_bir_sayi = 10"
   ]
  },
  {
   "cell_type": "code",
   "execution_count": 25,
   "metadata": {},
   "outputs": [
    {
     "name": "stdout",
     "output_type": "stream",
     "text": [
      "127.8\n",
      "127\n"
     ]
    }
   ],
   "source": [
    "degisken1 = 1278\n",
    "degisken2 = 10\n",
    "print(degisken1/degisken2)\n",
    "print(degisken1//degisken2)"
   ]
  },
  {
   "cell_type": "code",
   "execution_count": 30,
   "metadata": {},
   "outputs": [
    {
     "name": "stdout",
     "output_type": "stream",
     "text": [
      "531441\n"
     ]
    }
   ],
   "source": [
    "taban = 3\n",
    "us = 12\n",
    "sonuc = 1\n",
    "for i in range(us):\n",
    "    sonuc *= taban\n",
    "print(sonuc)"
   ]
  },
  {
   "cell_type": "code",
   "execution_count": 31,
   "metadata": {},
   "outputs": [
    {
     "name": "stdout",
     "output_type": "stream",
     "text": [
      "531441\n"
     ]
    }
   ],
   "source": [
    "print(pow(taban,us))"
   ]
  },
  {
   "cell_type": "code",
   "execution_count": 32,
   "metadata": {},
   "outputs": [
    {
     "name": "stdout",
     "output_type": "stream",
     "text": [
      "531441\n"
     ]
    }
   ],
   "source": [
    "print(taban**us)"
   ]
  },
  {
   "cell_type": "code",
   "execution_count": 33,
   "metadata": {},
   "outputs": [
    {
     "name": "stdout",
     "output_type": "stream",
     "text": [
      "<class 'str'>\n",
      "<class 'str'>\n"
     ]
    }
   ],
   "source": [
    "a = \"deneme metni\"\n",
    "print(type(a))\n",
    "print(type(a[0]))"
   ]
  },
  {
   "cell_type": "code",
   "execution_count": 35,
   "metadata": {},
   "outputs": [
    {
     "name": "stdout",
     "output_type": "stream",
     "text": [
      "10 bir sayıdır\n"
     ]
    }
   ],
   "source": [
    "a = 10\n",
    "b = \" bir sayıdır\"\n",
    "print(str(a)+b)"
   ]
  },
  {
   "cell_type": "code",
   "execution_count": 37,
   "metadata": {},
   "outputs": [
    {
     "name": "stdout",
     "output_type": "stream",
     "text": [
      "40\n"
     ]
    }
   ],
   "source": [
    "a = 10\n",
    "b = \"30\"\n",
    "print(a+int(b))"
   ]
  },
  {
   "cell_type": "code",
   "execution_count": 42,
   "metadata": {},
   "outputs": [
    {
     "name": "stdout",
     "output_type": "stream",
     "text": [
      "AAAAAAAAAA\n"
     ]
    }
   ],
   "source": [
    "degisken = \"5\"\n",
    "print(degisken*10)"
   ]
  },
  {
   "cell_type": "code",
   "execution_count": 44,
   "metadata": {},
   "outputs": [
    {
     "name": "stdout",
     "output_type": "stream",
     "text": [
      "Bir sayı giriniz:\n",
      "300\n"
     ]
    }
   ],
   "source": [
    "#Ekrandan veri giriniz mesajı vermem lazım\n",
    "print(\"Bir sayı giriniz:\")\n",
    "#Ekrandan değeri almam lazım\n",
    "deger = input()\n",
    "intDeger = int(deger)\n",
    "#10 ile çarpılması gerekiyor\n",
    "intDeger *=10\n",
    "#Ekrana göstermemiz gerekiyor\n",
    "print(intDeger)"
   ]
  },
  {
   "cell_type": "code",
   "execution_count": 45,
   "metadata": {},
   "outputs": [
    {
     "name": "stdout",
     "output_type": "stream",
     "text": [
      "100\n"
     ]
    }
   ],
   "source": [
    "intDeger = int(input(\"Bir sayı giriniz:\"))\n",
    "intDeger *=10\n",
    "print(intDeger)"
   ]
  },
  {
   "cell_type": "code",
   "execution_count": 46,
   "metadata": {},
   "outputs": [
    {
     "name": "stdout",
     "output_type": "stream",
     "text": [
      "300\n"
     ]
    }
   ],
   "source": [
    "print(int(input(\"Bir sayı giriniz:\"))*10)"
   ]
  },
  {
   "cell_type": "code",
   "execution_count": 51,
   "metadata": {},
   "outputs": [
    {
     "name": "stdout",
     "output_type": "stream",
     "text": [
      "Merhaba\n",
      "Güle güle\n",
      "!\n",
      "Merhaba Güle güle !\n",
      "Merhaba Güle güle !\n"
     ]
    }
   ],
   "source": [
    "\n",
    "print(\"Merhaba\")\n",
    "print(\"Güle güle\")\n",
    "print(\"!\")\n",
    "\n",
    "print(\"Merhaba\",\"Güle güle\")\n",
    "\n",
    "print(\"Merhaba\",end=\" \")\n",
    "print(\"Güle güle\")"
   ]
  },
  {
   "cell_type": "code",
   "execution_count": 54,
   "metadata": {},
   "outputs": [
    {
     "name": "stdout",
     "output_type": "stream",
     "text": [
      "1 2 3\n",
      "1,2,3\n"
     ]
    }
   ],
   "source": [
    "a,b,c=1,2,3\n",
    "print(a,b,c)\n",
    "print(a,b,c,sep=\",\")"
   ]
  },
  {
   "cell_type": "code",
   "execution_count": 57,
   "metadata": {},
   "outputs": [
    {
     "name": "stdout",
     "output_type": "stream",
     "text": [
      "Merhaba Güle güle\n",
      "Merhaba Güle güle\n"
     ]
    }
   ],
   "source": [
    "a = \"Merhaba\"\n",
    "b = \"Güle güle\"\n",
    "print(a + \" \" + b)\n",
    "print(f\"{a} {b}\")"
   ]
  }
 ],
 "metadata": {
  "kernelspec": {
   "display_name": "base",
   "language": "python",
   "name": "python3"
  },
  "language_info": {
   "codemirror_mode": {
    "name": "ipython",
    "version": 3
   },
   "file_extension": ".py",
   "mimetype": "text/x-python",
   "name": "python",
   "nbconvert_exporter": "python",
   "pygments_lexer": "ipython3",
   "version": "3.10.10"
  }
 },
 "nbformat": 4,
 "nbformat_minor": 2
}
