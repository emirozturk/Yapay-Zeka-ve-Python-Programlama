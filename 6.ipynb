{
 "cells": [
  {
   "cell_type": "code",
   "execution_count": 3,
   "metadata": {},
   "outputs": [
    {
     "name": "stdout",
     "output_type": "stream",
     "text": [
      "range(0, 10)\n",
      "[10, 20, 30, 40, 50, 60, 70, 80, 90]\n"
     ]
    }
   ],
   "source": [
    "aralik = range(10)\n",
    "print(aralik)\n",
    "print(list(range(10,100,10)))"
   ]
  },
  {
   "cell_type": "code",
   "execution_count": 8,
   "metadata": {},
   "outputs": [
    {
     "name": "stdout",
     "output_type": "stream",
     "text": [
      "40\n",
      "[10, 20, 30, 40, 22]\n"
     ]
    }
   ],
   "source": [
    "liste = [10,20,30,40,50]\n",
    "print(liste[3])\n",
    "liste[4] = 22\n",
    "print(liste)"
   ]
  },
  {
   "cell_type": "code",
   "execution_count": 10,
   "metadata": {},
   "outputs": [
    {
     "name": "stdout",
     "output_type": "stream",
     "text": [
      "42\n"
     ]
    }
   ],
   "source": [
    "liste[3] = liste[3]+1\n",
    "print(liste[3])"
   ]
  },
  {
   "cell_type": "code",
   "execution_count": 13,
   "metadata": {},
   "outputs": [
    {
     "name": "stdout",
     "output_type": "stream",
     "text": [
      "45\n"
     ]
    }
   ],
   "source": [
    "liste[3]+=1\n",
    "print(liste[3])"
   ]
  },
  {
   "cell_type": "code",
   "execution_count": 15,
   "metadata": {},
   "outputs": [
    {
     "name": "stdout",
     "output_type": "stream",
     "text": [
      "45\n"
     ]
    }
   ],
   "source": [
    "indis = 2\n",
    "print(liste[indis+1])"
   ]
  },
  {
   "cell_type": "code",
   "execution_count": 25,
   "metadata": {},
   "outputs": [
    {
     "name": "stdout",
     "output_type": "stream",
     "text": [
      "[10, 20, 30, 45, 22]\n",
      "[20, 30, 45]\n",
      "[10, 30]\n",
      "22\n",
      "45\n",
      "[45, 22]\n"
     ]
    }
   ],
   "source": [
    "print(liste)\n",
    "print(liste[1:4])\n",
    "print(liste[0:4:2])\n",
    "print(liste[-1])\n",
    "print(liste[-2])\n",
    "print(liste[3:])\n",
    "print(liste[:3])"
   ]
  },
  {
   "cell_type": "code",
   "execution_count": 26,
   "metadata": {},
   "outputs": [
    {
     "name": "stdout",
     "output_type": "stream",
     "text": [
      "[10, 20, 30, 40, 50, 1, 2, 3, 4]\n"
     ]
    }
   ],
   "source": [
    "liste = [10,20,30,40,50]\n",
    "for i in range(1,5):\n",
    "    liste.append(i)\n",
    "print(liste)"
   ]
  },
  {
   "cell_type": "code",
   "execution_count": 33,
   "metadata": {},
   "outputs": [
    {
     "name": "stdout",
     "output_type": "stream",
     "text": [
      "[10, 20, 30, 40, 50, 27, 1, 2, 3, 4, 5, 6, 7, 8, 9, 11, 22, 33]\n"
     ]
    }
   ],
   "source": [
    "liste=[10,20,30,40,50]\n",
    "liste2=[11,22,33]\n",
    "rng = list(range(1,10))\n",
    "liste.extend(rng)\n",
    "liste.extend(liste2)\n",
    "liste.insert(5,27)\n",
    "print(liste)"
   ]
  },
  {
   "cell_type": "code",
   "execution_count": 42,
   "metadata": {},
   "outputs": [
    {
     "name": "stdout",
     "output_type": "stream",
     "text": [
      "[1, 2, 3, 4, 5, 6, 7, 8, 9, 10, 11, 20, 22, 27, 30, 33, 40, 50]\n"
     ]
    }
   ],
   "source": [
    "liste.sort(reverse=True)\n",
    "print(liste)"
   ]
  },
  {
   "cell_type": "code",
   "execution_count": 41,
   "metadata": {},
   "outputs": [
    {
     "name": "stdout",
     "output_type": "stream",
     "text": [
      "[22, 11, 5, 50, 27, 3, 4, 7, 20, 30, 1, 6, 10, 2, 33, 40, 8, 9]\n"
     ]
    }
   ],
   "source": [
    "import random\n",
    "random.shuffle(liste)\n",
    "print(liste)"
   ]
  },
  {
   "cell_type": "code",
   "execution_count": 43,
   "metadata": {},
   "outputs": [
    {
     "name": "stdout",
     "output_type": "stream",
     "text": [
      "[1, 2, 3, 4, 5, 6, 7, 8, 9, 10, 20, 22, 27, 30, 33, 40, 50]\n"
     ]
    }
   ],
   "source": [
    "liste.remove(11)\n",
    "print(liste)"
   ]
  },
  {
   "cell_type": "code",
   "execution_count": 48,
   "metadata": {},
   "outputs": [
    {
     "data": {
      "text/plain": [
       "18"
      ]
     },
     "execution_count": 48,
     "metadata": {},
     "output_type": "execute_result"
    }
   ],
   "source": [
    "liste.count(10)\n",
    "liste.index(10)\n",
    "len(liste)"
   ]
  },
  {
   "cell_type": "code",
   "execution_count": 49,
   "metadata": {},
   "outputs": [
    {
     "name": "stdout",
     "output_type": "stream",
     "text": [
      "50\n",
      "1\n",
      "287\n"
     ]
    }
   ],
   "source": [
    "print(max(liste))\n",
    "print(min(liste))\n",
    "print(sum(liste))"
   ]
  },
  {
   "cell_type": "code",
   "execution_count": 56,
   "metadata": {},
   "outputs": [
    {
     "name": "stdout",
     "output_type": "stream",
     "text": [
      "[[1, 2, 3], [3, 4, 1], [5, 5, 1]]\n",
      "4\n",
      "[[1 2 3]\n",
      " [3 4 1]\n",
      " [5 5 1]]\n"
     ]
    }
   ],
   "source": [
    "matris = [[1,2,3],[3,4,1],[5,5,1]]\n",
    "print(matris)\n",
    "print(matris[1][1])"
   ]
  },
  {
   "cell_type": "code",
   "execution_count": 58,
   "metadata": {},
   "outputs": [
    {
     "name": "stdout",
     "output_type": "stream",
     "text": [
      "(10, 20, 30)\n",
      "10\n",
      "20\n",
      "30\n"
     ]
    }
   ],
   "source": [
    "a = 10\n",
    "b = 20\n",
    "c = 30\n",
    "tpl = (10,20,30)\n",
    "print(tpl)\n",
    "x,y,z = tpl\n",
    "print(x)\n",
    "print(y)\n",
    "print(z)\n",
    "def fonk():\n",
    "    return 1,2,3\n",
    "\n",
    "x,y,z = fonk()"
   ]
  },
  {
   "cell_type": "code",
   "execution_count": 60,
   "metadata": {},
   "outputs": [
    {
     "name": "stdout",
     "output_type": "stream",
     "text": [
      "a\n"
     ]
    },
    {
     "ename": "TypeError",
     "evalue": "'str' object does not support item assignment",
     "output_type": "error",
     "traceback": [
      "\u001b[0;31m---------------------------------------------------------------------------\u001b[0m",
      "\u001b[0;31mTypeError\u001b[0m                                 Traceback (most recent call last)",
      "\u001b[1;32mUntitled-1.ipynb Cell 16\u001b[0m line \u001b[0;36m3\n\u001b[1;32m      <a href='vscode-notebook-cell:Untitled-1.ipynb?jupyter-notebook#X21sdW50aXRsZWQ%3D?line=0'>1</a>\u001b[0m metin \u001b[39m=\u001b[39m \u001b[39m\"\u001b[39m\u001b[39mBugün hava çok güzel\u001b[39m\u001b[39m\"\u001b[39m\n\u001b[1;32m      <a href='vscode-notebook-cell:Untitled-1.ipynb?jupyter-notebook#X21sdW50aXRsZWQ%3D?line=1'>2</a>\u001b[0m \u001b[39mprint\u001b[39m(metin[\u001b[39m7\u001b[39m])\n\u001b[0;32m----> <a href='vscode-notebook-cell:Untitled-1.ipynb?jupyter-notebook#X21sdW50aXRsZWQ%3D?line=2'>3</a>\u001b[0m metin[\u001b[39m7\u001b[39;49m]\u001b[39m=\u001b[39m\u001b[39m\"\u001b[39m\u001b[39mb\u001b[39m\u001b[39m\"\u001b[39m\n",
      "\u001b[0;31mTypeError\u001b[0m: 'str' object does not support item assignment"
     ]
    }
   ],
   "source": [
    "metin = \"Bugün hava çok güzel\"\n",
    "print(metin[7])\n",
    "metin[7]=\"b\"\n"
   ]
  },
  {
   "cell_type": "markdown",
   "metadata": {},
   "source": [
    "Kullanıcıdan girilen 10 değerin ortalamasını ve varyansını bulan uygulamayı yazınız."
   ]
  },
  {
   "cell_type": "code",
   "execution_count": 7,
   "metadata": {},
   "outputs": [
    {
     "name": "stdout",
     "output_type": "stream",
     "text": [
      "Ortalama: 201.9\n",
      "Std: 213.68068076766636\n"
     ]
    }
   ],
   "source": [
    "liste = [1,345,123,67,32,667,44,342,65,333]\n",
    "ortalama = sum(liste)/len(liste)\n",
    "print(\"Ortalama:\",ortalama)\n",
    "varyans = 0\n",
    "for eleman in liste:\n",
    "    varyans += (ortalama-eleman)**2\n",
    "varyans/=(len(liste)-1)\n",
    "print(\"Std:\",varyans**0.5)"
   ]
  },
  {
   "cell_type": "markdown",
   "metadata": {},
   "source": [
    "Girilen bir string’in içerisinde verilen bir karakterden kaç tane olduğunu bulan uygulamayı yazınız."
   ]
  },
  {
   "cell_type": "code",
   "execution_count": 9,
   "metadata": {},
   "outputs": [
    {
     "name": "stdout",
     "output_type": "stream",
     "text": [
      "2\n",
      "2\n"
     ]
    }
   ],
   "source": [
    "metin = \"Bugün hava çok güzel\"\n",
    "karakter = \"a\"\n",
    "print(metin.count(\"a\"))\n",
    "sayi = 0\n",
    "for k in metin:\n",
    "    if k == karakter:\n",
    "        sayi+=1\n",
    "print(sayi)"
   ]
  },
  {
   "cell_type": "markdown",
   "metadata": {},
   "source": [
    "Üç adet 10 tamsayı içeren liste tanımlansın. 10 adet sayı girilen yeni bir listenin hangi listeye daha yakın olduğunu belirlenen bir yöntem ile tespit ediniz."
   ]
  },
  {
   "cell_type": "code",
   "execution_count": 17,
   "metadata": {},
   "outputs": [
    {
     "name": "stdout",
     "output_type": "stream",
     "text": [
      "[[10, 30, 50, 70, 90, 110, 130, 150, 170, 190], [100, 108, 116, 124, 132, 140, 148, 156, 164, 172], [193, 200, 207, 214, 221, 228, 235, 242, 249, 256]]\n",
      "En yakın 0 indisindeki diziye benziyor\n"
     ]
    }
   ],
   "source": [
    "liste1=list([x*10 for x in range(1,50,2)[:10]])\n",
    "liste2=list(range(100,1000,8)[:10])\n",
    "liste3=list(range(193,1000,7)[:10])\n",
    "aranan = [105,108,250,235,135,185,176,156,233,189]\n",
    "listeler = [liste1,liste2,liste3]\n",
    "print(listeler)\n",
    "farklar=[]\n",
    "for liste in listeler:#Her liste için   \n",
    "    fark = 0\n",
    "    for i in range(10):#Elimdeki liste ile karşılaştır\n",
    "        fark += liste[i]-aranan[i]#Toplam farkı bul\n",
    "    farklar.append(fark)\n",
    "#minimum farka sahip olanın indisini bul\n",
    "minFark = 10000000\n",
    "minIndis = 0\n",
    "for i in range(len(farklar)):\n",
    "    if fark < minFark:\n",
    "        minFark = fark\n",
    "        minIndis = i\n",
    "print(\"En yakın\",minIndis,\"indisindeki diziye benziyor\")\n"
   ]
  },
  {
   "cell_type": "code",
   "execution_count": 25,
   "metadata": {},
   "outputs": [
    {
     "name": "stdout",
     "output_type": "stream",
     "text": [
      "deger\n"
     ]
    },
    {
     "ename": "TypeError",
     "evalue": "'set' object is not subscriptable",
     "output_type": "error",
     "traceback": [
      "\u001b[0;31m---------------------------------------------------------------------------\u001b[0m",
      "\u001b[0;31mTypeError\u001b[0m                                 Traceback (most recent call last)",
      "\u001b[1;32m/Users/emirozturk/Desktop/GitHub/Yapay-Zeka-ve-Python-Programlama/6.ipynb Cell 23\u001b[0m line \u001b[0;36m4\n\u001b[1;32m      <a href='vscode-notebook-cell:/Users/emirozturk/Desktop/GitHub/Yapay-Zeka-ve-Python-Programlama/6.ipynb#X31sZmlsZQ%3D%3D?line=1'>2</a>\u001b[0m kume \u001b[39m=\u001b[39m {\u001b[39m1\u001b[39m,\u001b[39m2\u001b[39m,\u001b[39m3\u001b[39m,\u001b[39m4\u001b[39m}\n\u001b[1;32m      <a href='vscode-notebook-cell:/Users/emirozturk/Desktop/GitHub/Yapay-Zeka-ve-Python-Programlama/6.ipynb#X31sZmlsZQ%3D%3D?line=2'>3</a>\u001b[0m \u001b[39mprint\u001b[39m(sozluk[\u001b[39m2\u001b[39m])\n\u001b[0;32m----> <a href='vscode-notebook-cell:/Users/emirozturk/Desktop/GitHub/Yapay-Zeka-ve-Python-Programlama/6.ipynb#X31sZmlsZQ%3D%3D?line=3'>4</a>\u001b[0m \u001b[39mprint\u001b[39m(kume[\u001b[39m3\u001b[39;49m])\n",
      "\u001b[0;31mTypeError\u001b[0m: 'set' object is not subscriptable"
     ]
    }
   ],
   "source": [
    "sozluk = {\"key1\":1,\"key2\":2,3:1,2:\"deger\"}\n",
    "kume = {1,2,3,4}\n",
    "print(sozluk[2])\n",
    "print(kume[3])\n"
   ]
  },
  {
   "cell_type": "code",
   "execution_count": 34,
   "metadata": {},
   "outputs": [
    {
     "name": "stdout",
     "output_type": "stream",
     "text": [
      "25\n",
      "{1, 2, 3, 4, 5, 6, 7}\n",
      "Var\n"
     ]
    }
   ],
   "source": [
    "liste1=[1,1,1,1,1,1,1,1,2,2,2,2,2,2,3,3,3,3,3,4,5,5,5,6,7]\n",
    "liste2=[7,8,9,10]\n",
    "print(len(liste))\n",
    "kume = set(liste)\n",
    "print(kume)\n",
    "if 3 in kume:\n",
    "    print(\"Var\")"
   ]
  },
  {
   "cell_type": "code",
   "execution_count": 40,
   "metadata": {},
   "outputs": [
    {
     "name": "stdout",
     "output_type": "stream",
     "text": [
      "{1, 2, 3, 4, 5, 6, 7}\n",
      "{8, 9, 10, 7}\n",
      "{7}\n",
      "{1, 2, 3, 4, 5, 6, 7, 8, 9, 10}\n",
      "{1, 2, 3, 4, 5, 6, 8, 9, 10}\n",
      "{1, 2, 3, 4, 5, 6}\n",
      "True\n"
     ]
    }
   ],
   "source": [
    "kume1 = set(liste1)\n",
    "kume2 = set(liste2)\n",
    "print(kume1)\n",
    "print(kume2)\n",
    "print(kume1 & kume2)\n",
    "print(kume1 | kume2)\n",
    "print(kume1 ^ kume2)\n",
    "print(kume1 - kume2)"
   ]
  },
  {
   "cell_type": "code",
   "execution_count": 43,
   "metadata": {},
   "outputs": [
    {
     "name": "stdout",
     "output_type": "stream",
     "text": [
      "True\n"
     ]
    }
   ],
   "source": [
    "kume3 = set([1,2,3])\n",
    "print(kume3 < kume1)"
   ]
  },
  {
   "cell_type": "code",
   "execution_count": 50,
   "metadata": {},
   "outputs": [
    {
     "name": "stdout",
     "output_type": "stream",
     "text": [
      "1\n",
      "17\n",
      "3\n",
      "8\n",
      "11\n"
     ]
    }
   ],
   "source": [
    "sozluk={'a':1,'b':17,'c':3,'d':8,'e':11}\n",
    "#for key in sozluk:\n",
    "#    print(key,sozluk[key])\n",
    "for k,v in sozluk.items():\n",
    "    print(v)"
   ]
  }
 ],
 "metadata": {
  "kernelspec": {
   "display_name": "base",
   "language": "python",
   "name": "python3"
  },
  "language_info": {
   "codemirror_mode": {
    "name": "ipython",
    "version": 3
   },
   "file_extension": ".py",
   "mimetype": "text/x-python",
   "name": "python",
   "nbconvert_exporter": "python",
   "pygments_lexer": "ipython3",
   "version": "3.10.10"
  }
 },
 "nbformat": 4,
 "nbformat_minor": 2
}
