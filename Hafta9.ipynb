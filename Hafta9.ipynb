{
 "cells": [
  {
   "cell_type": "code",
   "execution_count": 3,
   "metadata": {},
   "outputs": [
    {
     "name": "stdout",
     "output_type": "stream",
     "text": [
      "6.02214076e+23\n",
      "1000000000.0\n",
      "133.32236842105263\n"
     ]
    }
   ],
   "source": [
    "from scipy import constants\n",
    "print(constants.Avogadro)\n",
    "print(constants.giga)\n",
    "print(constants.mmHg)"
   ]
  },
  {
   "cell_type": "code",
   "execution_count": 8,
   "metadata": {},
   "outputs": [
    {
     "name": "stdout",
     "output_type": "stream",
     "text": [
      " message: The solution converged.\n",
      " success: True\n",
      "  status: 1\n",
      "     fun: [ 0.000e+00]\n",
      "       x: [ 1.000e+00]\n",
      "    nfev: 41\n",
      "    fjac: [[-1.000e+00]]\n",
      "       r: [ 2.205e-08]\n",
      "     qtf: [-1.110e-16]\n"
     ]
    }
   ],
   "source": [
    "from scipy.optimize import root,minimize\n",
    "def fonksiyon(x):\n",
    "    return x**2-2*x+1\n",
    "print(root(fonksiyon,0))\n"
   ]
  },
  {
   "cell_type": "code",
   "execution_count": 13,
   "metadata": {},
   "outputs": [
    {
     "name": "stdout",
     "output_type": "stream",
     "text": [
      "  message: Optimization terminated successfully.\n",
      "  success: True\n",
      "   status: 0\n",
      "      fun: 0.1205802532569038\n",
      "        x: [ 5.352e-01]\n",
      "      nit: 20\n",
      "      jac: [ 3.129e-07]\n",
      " hess_inv: [[ 1.385e-01]]\n",
      "     nfev: 48\n",
      "     njev: 24\n"
     ]
    }
   ],
   "source": [
    "def fonksiyon(x):\n",
    "    return x**3+2*x**2-3*x+1\n",
    "print(minimize(fonksiyon,1123))"
   ]
  },
  {
   "cell_type": "code",
   "execution_count": 18,
   "metadata": {},
   "outputs": [
    {
     "name": "stdout",
     "output_type": "stream",
     "text": [
      "  (0, 1)\t6\n",
      "  (0, 2)\t3\n",
      "  (1, 2)\t2\n",
      "  (2, 3)\t5\n",
      "  (3, 2)\t4\n",
      "[0 1 2 3]\n"
     ]
    }
   ],
   "source": [
    "from scipy.sparse.csgraph import depth_first_order,breadth_first_order\n",
    "from scipy.sparse import csr_matrix\n",
    "import numpy as np\n",
    "arr = np.array([\n",
    "  [0, 6, 3, 0],\n",
    "  [0, 0, 2, 0],\n",
    "  [0, 0, 0, 5],\n",
    "  [0, 0, 4, 0]])\n",
    "graph = csr_matrix(arr)\n",
    "print(graph)\n",
    "x,y = depth_first_order(graph,0, return_predecessors=True)\n",
    "print(x)"
   ]
  },
  {
   "cell_type": "code",
   "execution_count": 26,
   "metadata": {},
   "outputs": [
    {
     "name": "stdout",
     "output_type": "stream",
     "text": [
      "[1, 2, 3, 4, 5]\n",
      "[11.  19.  27.  32.5 38. ]\n"
     ]
    }
   ],
   "source": [
    "from scipy.interpolate import interp1d\n",
    "x=[1,3,5,7,9,11]\n",
    "y=[11,27,38,44,56,88]\n",
    "interpolasyonFonksiyonu = interp1d(x,y)\n",
    "yeniXler = [1,2,3,4,5]\n",
    "print(yeniXler)\n",
    "print(interpolasyonFonksiyonu(yeniXler))"
   ]
  },
  {
   "cell_type": "code",
   "execution_count": 34,
   "metadata": {},
   "outputs": [
    {
     "name": "stdout",
     "output_type": "stream",
     "text": [
      "x**2 + 2*x*y + y**2\n",
      "y + 1\n"
     ]
    }
   ],
   "source": [
    "import sympy \n",
    "x = sympy.Symbol('x')\n",
    "y = sympy.Symbol('y')\n",
    "print(sympy.expand((x+y)*(x+y)))\n",
    "print(sympy.simplify((x + x*y) / x))\n"
   ]
  },
  {
   "cell_type": "code",
   "execution_count": 39,
   "metadata": {},
   "outputs": [
    {
     "name": "stdout",
     "output_type": "stream",
     "text": [
      "1\n"
     ]
    }
   ],
   "source": [
    "print(sympy.limit(sympy.sin(x) / x, x, 0))"
   ]
  }
 ],
 "metadata": {
  "kernelspec": {
   "display_name": "base",
   "language": "python",
   "name": "python3"
  },
  "language_info": {
   "codemirror_mode": {
    "name": "ipython",
    "version": 3
   },
   "file_extension": ".py",
   "mimetype": "text/x-python",
   "name": "python",
   "nbconvert_exporter": "python",
   "pygments_lexer": "ipython3",
   "version": "3.10.10"
  }
 },
 "nbformat": 4,
 "nbformat_minor": 2
}
